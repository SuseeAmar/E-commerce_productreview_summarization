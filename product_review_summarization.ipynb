{
 "cells": [
  {
   "cell_type": "code",
   "execution_count": 1,
   "metadata": {},
   "outputs": [],
   "source": [
    "from lxml import html  \n",
    "import requests\n",
    "\n",
    "amazon_url = 'https://www.amazon.com/product-reviews/B01DFKC2SO?pageNumber=1&sortBy=recent'\n",
    "\n",
    "user_agent = 'Mozilla/5.0 (Windows NT 6.3; Win64; x64) AppleWebKit/537.36 (KHTML, like Gecko) Chrome/72.0.3626.109 Safari/537.36'\n",
    "\n",
    "headers = {'User-Agent': user_agent}\n",
    "page = requests.get(amazon_url, headers = headers)\n",
    "parser = html.fromstring(page.content)"
   ]
  },
  {
   "cell_type": "code",
   "execution_count": 2,
   "metadata": {},
   "outputs": [],
   "source": [
    "xpath_reviews = '//div[@data-hook=\"review\"]'\n",
    "reviews = parser.xpath(xpath_reviews)"
   ]
  },
  {
   "cell_type": "code",
   "execution_count": 5,
   "metadata": {},
   "outputs": [],
   "source": [
    "xpath_rating  = './/i[@data-hook=\"review-star-rating\"]//text()' \n",
    "xpath_title   = './/a[@data-hook=\"review-title\"]//text()'\n",
    "xpath_author  = './/a[@data-hook=\"review-author\"]//text()'\n",
    "xpath_date    = './/span[@data-hook=\"review-date\"]//text()'\n",
    "xpath_body    = './/span[@data-hook=\"review-body\"]//text()'\n",
    "xpath_helpful = './/span[@data-hook=\"helpful-vote-statement\"]//text()'"
   ]
  },
  {
   "cell_type": "code",
   "execution_count": 13,
   "metadata": {},
   "outputs": [],
   "source": [
    "\n",
    "for review in reviews:\n",
    "    reviews_df = []\n",
    "    rating  = review.xpath(xpath_rating)\n",
    "    title   = review.xpath(xpath_title)\n",
    "    author  = review.xpath(xpath_author)\n",
    "    date    = review.xpath(xpath_date)\n",
    "    body    = review.xpath(xpath_body)\n",
    "    helpful = review.xpath(xpath_helpful)\n",
    "    \n",
    "    review_dict = {'rating': rating,\n",
    "                   'title': title,\n",
    "                   'author': author,             \n",
    "                   'date': date,\n",
    "                   'body': body,\n",
    "                   'helpful': helpful}\n",
    "    reviews_df = reviews_df.append(review_dict)"
   ]
  },
  {
   "cell_type": "code",
   "execution_count": null,
   "metadata": {},
   "outputs": [],
   "source": []
  },
  {
   "cell_type": "code",
   "execution_count": null,
   "metadata": {},
   "outputs": [],
   "source": []
  },
  {
   "cell_type": "code",
   "execution_count": null,
   "metadata": {},
   "outputs": [],
   "source": []
  },
  {
   "cell_type": "code",
   "execution_count": null,
   "metadata": {},
   "outputs": [],
   "source": []
  },
  {
   "cell_type": "code",
   "execution_count": null,
   "metadata": {},
   "outputs": [],
   "source": []
  },
  {
   "cell_type": "code",
   "execution_count": null,
   "metadata": {},
   "outputs": [],
   "source": []
  },
  {
   "cell_type": "code",
   "execution_count": null,
   "metadata": {},
   "outputs": [],
   "source": []
  }
 ],
 "metadata": {
  "kernelspec": {
   "display_name": "Python 3",
   "language": "python",
   "name": "python3"
  },
  "language_info": {
   "codemirror_mode": {
    "name": "ipython",
    "version": 3
   },
   "file_extension": ".py",
   "mimetype": "text/x-python",
   "name": "python",
   "nbconvert_exporter": "python",
   "pygments_lexer": "ipython3",
   "version": "3.5.5"
  }
 },
 "nbformat": 4,
 "nbformat_minor": 2
}
